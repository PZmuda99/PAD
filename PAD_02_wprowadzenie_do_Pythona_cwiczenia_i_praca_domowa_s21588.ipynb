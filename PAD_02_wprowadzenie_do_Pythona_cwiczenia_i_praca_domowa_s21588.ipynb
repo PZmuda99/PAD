{
  "nbformat": 4,
  "nbformat_minor": 0,
  "metadata": {
    "colab": {
      "provenance": []
    },
    "kernelspec": {
      "name": "python3",
      "display_name": "Python 3"
    },
    "language_info": {
      "name": "python"
    }
  },
  "cells": [
    {
      "cell_type": "markdown",
      "source": [
        "## iterator"
      ],
      "metadata": {
        "id": "YBf77-O2VMaK"
      }
    },
    {
      "cell_type": "code",
      "execution_count": null,
      "metadata": {
        "id": "MobBtdWEVEu1"
      },
      "outputs": [],
      "source": [
        "'''\n",
        "Zadanie 1\n",
        "Zaimplementuj własny iterator o nazwie tetranacci, zwracający kolejne liczby ciągu Tetranacciego.\n",
        "Funkcja __init__ powinna posiadać parametr o nazwie steps określający liczbę wyrazów ciągu,\n",
        "po których funkcja __next__ rzuca wyjątek StopIteration.\n",
        "Napisz program, w którym wykorzystasz swój iterator do wypisania na ekranie kolejnych wyrazów tego ciągu.\n",
        "Niech liczbę wyrazów do wypisania podaje użytkownik.\n",
        "\n",
        "'''"
      ]
    },
    {
      "cell_type": "markdown",
      "source": [
        "## generator"
      ],
      "metadata": {
        "id": "HgA0kNjTVXwG"
      }
    },
    {
      "cell_type": "code",
      "source": [
        "'''\n",
        "Zadanie 2\n",
        "Zaimplementuj własny generator o nazwie accumulate,\n",
        "zwracający kolejne sumy elementów z podanego obiektu iterowalnego.\n",
        "'''"
      ],
      "metadata": {
        "id": "hl3BhofyVdoH"
      },
      "execution_count": null,
      "outputs": []
    },
    {
      "cell_type": "code",
      "source": [
        "'''\n",
        "Zadanie 3\n",
        "\n",
        "Napisz własny dekorator o nazwie hello. Wynikiem jego działania powinno być:\n",
        "• wypisanie na ekranie napisu hello\n",
        "• wywołanie funkcji przekazanej jako argument.\n",
        "'''"
      ],
      "metadata": {
        "id": "ffhbiOTJVnmB"
      },
      "execution_count": null,
      "outputs": []
    },
    {
      "cell_type": "code",
      "source": [
        "'''\n",
        "Zadanie 4\n",
        "Zaimplementuj własną funkcję o nazwie tetranacci, zwracający określony element ciągu Tetranacciego.\n",
        "Funkcja powinna posiadać parametr o nazwie n określający numer wyrazu ciągu do obliczenia.\n",
        "Obliczenia wykonuj rekurencyjnie.\n",
        "'''"
      ],
      "metadata": {
        "id": "NjZRSS6sVrm5"
      },
      "execution_count": null,
      "outputs": []
    },
    {
      "cell_type": "markdown",
      "source": [
        "## klasy"
      ],
      "metadata": {
        "id": "eDFgAg3cWRAk"
      }
    },
    {
      "cell_type": "code",
      "source": [
        "'''\n",
        "Zadanie 5\n",
        "Stwórz klasę Pojazd z atrybutami predkosc_max i przebieg\n",
        "stwórz instancję klasy i wydrukuj jej atrybuty do konsoli\n",
        "tworzac instancję możesz podać dowolne wielkości\n",
        "'''"
      ],
      "metadata": {
        "id": "LMrKGhhSWMM8"
      },
      "execution_count": null,
      "outputs": []
    },
    {
      "cell_type": "code",
      "source": [
        "'''\n",
        "Zadanie 6\n",
        "Stwórz klasę Autobus, która dziedziczy po Pojeździe utworzonym wcześniej,\n",
        "ale do atrybutów Pojazdu dodaj jeszcze nazwę modelu\n",
        "stwórz instancję klasy i wydrukuj jej atrybuty\n",
        "'''"
      ],
      "metadata": {
        "id": "z_dYT1f5Wexv"
      },
      "execution_count": null,
      "outputs": []
    },
    {
      "cell_type": "code",
      "source": [
        "'''\n",
        "Zadanie 7\n",
        "klasie Pojazd utwórz metodę liczba_miejsc, która będzie przyjmowała jako argument liczbę miejsc i wyświetlała komunikat:\n",
        "\"{TU WSTAWIMY NAZWE POJAZDU} pomieści {LICZBA MIEJSC} osób.\"\n",
        "Klasa Autobus ma też dziedziczyć tę metodę, ale dodatkowo przyjmować wartość domyślną dla liczby miejsc = 50\n",
        "Utwórz instancję klasy aby zaprezentować działanie\n",
        "'''"
      ],
      "metadata": {
        "id": "CDj9cBQoWj-v"
      },
      "execution_count": null,
      "outputs": []
    },
    {
      "cell_type": "code",
      "source": [
        "'''\n",
        "Zadanie 8\n",
        "Sprawdź czy obiekt autobus jest instancją klasy Pojazd\n",
        "'''"
      ],
      "metadata": {
        "id": "y2s80EMmWrKP"
      },
      "execution_count": null,
      "outputs": []
    },
    {
      "cell_type": "markdown",
      "source": [
        "## PRACA DOMOWA (15 pkt)"
      ],
      "metadata": {
        "id": "jjNBmv7pVwP_"
      }
    },
    {
      "cell_type": "code",
      "source": [
        "'''\n",
        "Zadanie 1 (4 pkt)\n",
        "Wykorzystując dekoratory, napisz cache dla funkcji tetranacci z poprzedniego zadania.\n",
        "Ten dekorator powinien zapobiegać przed ponownym obliczaniem tych samych wartości.\n",
        "'''\n",
        "from functools import lru_cache\n",
        "\n",
        "class Tetranacci:\n",
        "    def __init__(self, steps):\n",
        "        self.steps = steps\n",
        "        self.counter = 0\n",
        "        self.values = [0, 0, 0, 1]\n",
        "\n",
        "    @lru_cache(maxsize=None)\n",
        "    def __iter__(self):\n",
        "        return self\n",
        "\n",
        "    @lru_cache(maxsize=None)\n",
        "    def __next__(self):\n",
        "        if self.counter < self.steps:\n",
        "            self.counter += 1\n",
        "            if self.counter <= 4:\n",
        "                return self.values[self.counter-1]\n",
        "            else:\n",
        "                next_value = sum(self.values)\n",
        "                self.values = self.values[1:] + [next_value]\n",
        "                return next_value\n",
        "        else:\n",
        "            raise StopIteration\n",
        "steps = 10\n",
        "tet = Tetranacci(steps)\n",
        "\n",
        "# print(next(tet))\n",
        "for val in tet:\n",
        "  print(val)"
      ],
      "metadata": {
        "id": "TTUMq_uuVx32",
        "colab": {
          "base_uri": "https://localhost:8080/"
        },
        "outputId": "20623676-56cc-41b4-cc30-39382286240e"
      },
      "execution_count": 11,
      "outputs": [
        {
          "output_type": "stream",
          "name": "stdout",
          "text": [
            "0\n",
            "0\n",
            "0\n",
            "1\n",
            "1\n",
            "2\n",
            "4\n",
            "8\n",
            "15\n",
            "29\n"
          ]
        }
      ]
    },
    {
      "cell_type": "code",
      "source": [
        "'''\n",
        "Zadanie 2 (4 pkt)\n",
        "Zaimplementuj własny generator o nazwie repeat, zwracający obiekt podany przez użytkownika dokładnie N razy.\n",
        "Jeśli wartość parametru N nie została określona, generator powinien zwracać wartości w nieskończoność.\n",
        "\n",
        "PRZYKŁAD\n",
        "repeat(10, 3) → 10 10 10\n",
        "repeat(10, 5) → 10 10 10 10 10\n",
        "repeat(5) → 5 5 5 5 5 5 5 5 5 5 5 5 5 5 5…\n",
        "repeat(5, None) → 5 5 5 5 5 5 5 5 5 5 5 5 5 5 5…\n",
        "'''\n",
        "\n",
        "def repeat(obj, N=None):\n",
        "    if N is None:\n",
        "        while True:\n",
        "            yield obj\n",
        "    else:\n",
        "        for _ in range(N):\n",
        "            yield obj\n",
        "\n",
        "# Przykłady:\n",
        "# repeat(10, 3) → 10 10 10\n",
        "print(list(repeat(10, 3)))\n",
        "\n",
        "# repeat(10, 5) → 10 10 10 10 10\n",
        "print(list(repeat(10, 5)))\n",
        "\n",
        "# repeat(5) → 5 5 5 5 5 5 5 5 5 5 5 5 5 5 5…\n",
        "gen1 = repeat(5)\n",
        "for _ in range(15):\n",
        "    print(next(gen1), end=\" \")\n",
        "\n",
        "# repeat(5, None) → 5 5 5 5 5 5 5 5 5 5 5 5 5 5 5…\n",
        "gen2 = repeat(5, None)\n",
        "for _ in range(15):\n",
        "    print(next(gen2), end=\" \")"
      ],
      "metadata": {
        "id": "Q_Ur2Z9uWF-l",
        "colab": {
          "base_uri": "https://localhost:8080/"
        },
        "outputId": "e1dc9210-4cfa-461f-f6db-a332bb8862a0"
      },
      "execution_count": 12,
      "outputs": [
        {
          "output_type": "stream",
          "name": "stdout",
          "text": [
            "[10, 10, 10]\n",
            "[10, 10, 10, 10, 10]\n",
            "5 5 5 5 5 5 5 5 5 5 5 5 5 5 5 5 5 5 5 5 5 5 5 5 5 5 5 5 5 5 "
          ]
        }
      ]
    },
    {
      "cell_type": "code",
      "source": [
        "'''\n",
        "Zadanie 3 (1 pkt)\n",
        "W kodzie z zajęć w klasie Pojazd utwórz atrybut, który niezależnie od utworzonego obiektu będzie miał taką samą wartość.\n",
        "każdy obiekt ma mieć kolor biały\n",
        "'''\n",
        "\n",
        "class Pojazd:\n",
        "    kolor = \"biały\"  # Atrybut klasy\n",
        "\n",
        "    def __init__(self, predkosc_max, przebieg, model):\n",
        "        self.przebieg = przebieg\n",
        "        self.predkosc_max = predkosc_max\n",
        "        self.model = model"
      ],
      "metadata": {
        "id": "gChh80FsWzT7"
      },
      "execution_count": null,
      "outputs": []
    },
    {
      "cell_type": "code",
      "source": [
        "'''\n",
        "Zadanie 4 (2 pkt)\n",
        "Wykorzystaj klasy Autobus i Pojazd.\n",
        "Zdefiniuj metodę opłata, k†óra będzie miała wartość domyślną liczba_miejsc * 100\n",
        "Jeżeli Pojazd jest instancją Autobusu, opłata ma zostać powiększona o 10% wartości opłaty początkowej.\n",
        "Np. jeżeli autobus domyślnie ma 50 miejsc to opłata całkowita wyniesie 5500\n",
        "'''\n",
        "#zrozumiałem że pojazd też ma mieć klasę oplata tylko bez 10% dodatkowej opłaty\n",
        "class Pojazd:\n",
        "    kolor = \"biały\"  # Atrybut klasy\n",
        "    def __init__(self, predkosc_max, przebieg, model, liczba_miejsc):\n",
        "        self.przebieg = przebieg\n",
        "        self.predkosc_max = predkosc_max\n",
        "        self.model = model\n",
        "        self.liczba_miejsc=liczba_miejsc\n",
        "    def oplata(self):\n",
        "        return self.liczba_miejsc * 100\n",
        "\n",
        "class Autobus(Pojazd):\n",
        "    def oplata(self):\n",
        "        autobus_fee = super().oplata()\n",
        "        return autobus_fee * 1.1\n",
        "\n",
        "autobus = Autobus(300, 400, \"Autobus xyz\")\n",
        "print(autobus.model)"
      ],
      "metadata": {
        "id": "Q4Js_zjIXHZi"
      },
      "execution_count": null,
      "outputs": []
    },
    {
      "cell_type": "code",
      "source": [
        "'''\n",
        "Zadanie 5 (4 pkt)\n",
        "Napisz klasę FunkcjaKwadratowa, która przechowuje funkcje typu $ax^2$+bx+c.\n",
        "Klasa powinna zawierać trzy pola: a, b, c, które są przypisywane w konstruktorze.\n",
        "Główną metodą powinna być rozwiaz(), która zwraca miejsca zerowe podanej funkcji.\n",
        "Należy zwrócić uwagę na przypadki gdy a=0, b=0 lub c=0,\n",
        "a także obmyślić sposób informowania o nieskończonej liczbie, jednym lub zerze rozwiązań.\n",
        "'''\n",
        "\n",
        "'''\n",
        "początek kodu dla ułatwienia\n",
        "\n",
        "'''\n",
        "import math\n",
        "\n",
        "class FunkcjaKwadratowa:\n",
        "    def __init__(self, a, b, c):\n",
        "        self.a = a\n",
        "        self.b = b\n",
        "        self.c = c\n",
        "\n",
        "    def wypisz(self):\n",
        "        print(f\"Funkcja kwadratowa: {self.a}x^2 + {self.b}x + {self.c}\")\n",
        "\n",
        "    def oblicz_wartosc(self, x):\n",
        "        return self.a * x**2 + self.b * x + self.c\n",
        "\n",
        "    def rozwiaz(self):\n",
        "        if self.a == 0:\n",
        "            if self.b == 0:\n",
        "                if self.c == 0:\n",
        "                    return \"Nieskończenie wiele rozwiązań\"\n",
        "                else:\n",
        "                    return \"Brak rozwiązań\"\n",
        "            else:\n",
        "                x = -self.c / self.b\n",
        "                return f\"Jedno rozwiązanie: x = {x}\"\n",
        "        else:\n",
        "            delta = self.b**2 - 4 * self.a * self.c\n",
        "            if delta > 0:\n",
        "                x1 = (-self.b + math.sqrt(delta)) / (2 * self.a)\n",
        "                x2 = (-self.b - math.sqrt(delta)) / (2 * self.a)\n",
        "                return f\"Dwa rozwiązania: x1 = {x1}, x2 = {x2}\"\n",
        "            elif delta == 0:\n",
        "                x = -self.b / (2 * self.a)\n",
        "                return f\"Jedno podwójne rozwiązanie: x = {x}\"\n",
        "            else:\n",
        "                return \"Brak rozwiązań\"\n",
        "\n",
        "def main():\n",
        "    f1 = FunkcjaKwadratowa(2, 3, 1)\n",
        "    f1.wypisz()\n",
        "    print(f1.oblicz_wartosc(0))\n",
        "    print(f1.oblicz_wartosc(1))\n",
        "\n",
        "    print(FunkcjaKwadratowa(0, 0, 0).rozwiaz())\n",
        "    print(FunkcjaKwadratowa(0, 0, 1).rozwiaz())\n",
        "    print(FunkcjaKwadratowa(0, 2, 3).rozwiaz())\n",
        "    print(FunkcjaKwadratowa(1, 2, 3).rozwiaz())\n",
        "    print(FunkcjaKwadratowa(1, -5, 6).rozwiaz())\n",
        "    print(FunkcjaKwadratowa(1, 4, 4).rozwiaz())\n",
        "\n",
        "if __name__ == \"__main__\":\n",
        "    main()\n"
      ],
      "metadata": {
        "id": "BsdImsIAXXsu",
        "colab": {
          "base_uri": "https://localhost:8080/"
        },
        "outputId": "1626d442-af30-474c-c761-68a1c6ead005"
      },
      "execution_count": 13,
      "outputs": [
        {
          "output_type": "stream",
          "name": "stdout",
          "text": [
            "Funkcja kwadratowa: 2x^2 + 3x + 1\n",
            "1\n",
            "6\n",
            "Nieskończenie wiele rozwiązań\n",
            "Brak rozwiązań\n",
            "Jedno rozwiązanie: x = -1.5\n",
            "Brak rozwiązań\n",
            "Dwa rozwiązania: x1 = 3.0, x2 = 2.0\n",
            "Jedno podwójne rozwiązanie: x = -2.0\n"
          ]
        }
      ]
    }
  ]
}